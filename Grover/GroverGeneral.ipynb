{
 "cells": [
  {
   "cell_type": "code",
   "execution_count": null,
   "id": "5dd2dd95-085e-4871-abab-7ac90e8230a8",
   "metadata": {},
   "outputs": [],
   "source": [
    "%matplotlib inline\n",
    "# Importing standard Qiskit libraries\n",
    "from qiskit import QuantumCircuit, QuantumRegister, ClassicalRegister, execute, Aer, IBMQ\n",
    "from qiskit.compiler import transpile, assemble\n",
    "from qiskit.tools.jupyter import *\n",
    "from qiskit.visualization import *\n",
    "from ibm_quantum_widgets import *\n",
    "from qiskit_textbook.problems import grover_problem_oracle\n",
    "from numpy import pi\n",
    "from qiskit.circuit.library import Diagonal\n",
    "from qiskit.circuit.library import MCXGate\n",
    "from qiskit import QuantumCircuit\n",
    "\n",
    "# Loading your IBM Q account(s)\n",
    "provider = IBMQ.load_account()"
   ]
  },
  {
   "cell_type": "code",
   "execution_count": null,
   "id": "9bcff7db-f7a6-4ba5-b2f2-8c90d8055a02",
   "metadata": {},
   "outputs": [],
   "source": [
    "def Oracle(qc,solution,nqubits):\n",
    "    \n",
    "    #Gets binary format of solution\n",
    "    solbin = \"{0:b}\".format(solution)\n",
    "    ls = len(solbin)\n",
    "    \n",
    "    #If binary is shorter than the register add 0s to MSB to match length\n",
    "    if ls<nqubits:\n",
    "        for i in range(nqubits-ls):\n",
    "            solbin = \"0\"+solbin\n",
    "    \n",
    "    i = j = nqubits-1\n",
    "    \n",
    "    #Puts X gates on qubits that must give output 0\n",
    "    for x in solbin:\n",
    "        if x==\"0\":\n",
    "            qc.x(i)\n",
    "        i -= 1\n",
    "    \n",
    "    #Multi-controlled Z gate using Hadamards and MCT\n",
    "    qc.h(nqubits-1)\n",
    "    qc.mct(list(range(nqubits-1)), nqubits-1)\n",
    "    qc.h(nqubits-1)\n",
    "    \n",
    "    #Puts X gates on qubits that must give output 0\n",
    "    for x in solbin:\n",
    "        if x==\"0\":\n",
    "            qc.x(j)\n",
    "        j -= 1\n",
    "    \n",
    "    qc.barrier()"
   ]
  },
  {
   "cell_type": "code",
   "execution_count": null,
   "id": "6e8a7daa-ed62-4afb-a9c0-4802ec069449",
   "metadata": {},
   "outputs": [],
   "source": [
    "def Diffuser(qc,nqubits):\n",
    "    \n",
    "    for qubit in range(nqubits):\n",
    "        qc.h(qubit)\n",
    "    \n",
    "    for qubit in range(nqubits):\n",
    "        qc.x(qubit)\n",
    "    \n",
    "    #Multi-controlled Z gate using Hadamards and MCT\n",
    "    qc.h(nqubits-1)\n",
    "    qc.mct(list(range(nqubits-1)), nqubits-1)\n",
    "    qc.h(nqubits-1)\n",
    "\n",
    "    for qubit in range(nqubits-1):\n",
    "        qc.barrier(qubit)\n",
    "\n",
    "    for qubit in range(nqubits):\n",
    "        qc.x(qubit)\n",
    "    \n",
    "    for qubit in range(nqubits):\n",
    "        qc.h(qubit)\n",
    "        \n",
    "    qc.barrier()"
   ]
  },
  {
   "cell_type": "code",
   "execution_count": null,
   "id": "bc9e1785-d0df-4af3-b98d-e3fd64688a96",
   "metadata": {},
   "outputs": [],
   "source": [
    "#Change for different circuits\n",
    "nqubits = 3\n",
    "solution = 5"
   ]
  },
  {
   "cell_type": "code",
   "execution_count": null,
   "id": "80032322-4d56-4d7f-9246-bd406cf8b58b",
   "metadata": {},
   "outputs": [],
   "source": [
    "qreg = QuantumRegister(nqubits, 'q')\n",
    "creg = ClassicalRegister(nqubits, 'c')\n",
    "qc = QuantumCircuit(qreg, creg)\n",
    "\n",
    "for i in range(nqubits):\n",
    "    qc.h(qreg[i])\n",
    "\n",
    "qc.barrier()\n",
    "\n",
    "loops = 0;\n",
    "max_loops = round((pi/4)*((2**nqubits)**0.5)-0.5)\n",
    "\n",
    "while(loops<max_loops):\n",
    "    Oracle(qc,solution,nqubits)\n",
    "    Diffuser(qc,nqubits)\n",
    "    loops+=1\n",
    "\n",
    "for i in range(nqubits):\n",
    "    qc.measure(qreg[i], creg[i])\n",
    "\n",
    "qc.draw(fold=-1)"
   ]
  },
  {
   "cell_type": "code",
   "execution_count": null,
   "id": "48ded7a0-7b89-453c-af51-a13f2090eb5b",
   "metadata": {},
   "outputs": [],
   "source": [
    "platform = Aer.get_backend('qasm_simulator')\n",
    "#platform = provider.get_backend('ibmq_lima')\n",
    "#result = execute(qc, backend=simulator, shots=1024).result()\n",
    "t_qc = transpile(qc, platform)\n",
    "qobj = assemble(t_qc, shots=1000)\n",
    "result = platform.run(qobj).result()\n",
    "\n",
    "plot_histogram(result.get_counts())"
   ]
  },
  {
   "cell_type": "code",
   "execution_count": null,
   "id": "6ff4efe6-c672-4dc7-9f8b-f933f2a4bbb1",
   "metadata": {},
   "outputs": [],
   "source": []
  }
 ],
 "metadata": {
  "kernelspec": {
   "display_name": "Qiskit v0.30.1 (ipykernel)",
   "language": "python",
   "name": "python3"
  },
  "language_info": {
   "codemirror_mode": {
    "name": "ipython",
    "version": 3
   },
   "file_extension": ".py",
   "mimetype": "text/x-python",
   "name": "python",
   "nbconvert_exporter": "python",
   "pygments_lexer": "ipython3",
   "version": "3.8.10"
  },
  "widgets": {
   "application/vnd.jupyter.widget-state+json": {
    "state": {},
    "version_major": 2,
    "version_minor": 0
   }
  }
 },
 "nbformat": 4,
 "nbformat_minor": 5
}
