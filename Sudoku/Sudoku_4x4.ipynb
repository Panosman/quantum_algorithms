{
 "cells": [
  {
   "cell_type": "code",
   "execution_count": null,
   "id": "ec69ac3b",
   "metadata": {},
   "outputs": [],
   "source": [
    "import numpy as np\n",
    "# Importing standard Qiskit libraries\n",
    "from qiskit import QuantumCircuit, execute, Aer, IBMQ, QuantumRegister, ClassicalRegister, transpile, assemble\n",
    "from qiskit.tools.jupyter import *\n",
    "from qiskit.visualization import *\n",
    "from ibm_quantum_widgets import *\n",
    "from qiskit.quantum_info.operators import Operator\n",
    "\n",
    "# Loading your IBM Q account(s)\n",
    "provider = IBMQ.load_account()"
   ]
  },
  {
   "cell_type": "code",
   "execution_count": null,
   "id": "274bea4a",
   "metadata": {},
   "outputs": [],
   "source": [
    "#The sudoku that we want to solve. We mark with -1 the empty cells.\n",
    "#Change for different circuits\n",
    "#Values only in [0,1,2,3,-1]\n",
    "#Sudoku must have solution\n",
    "sudoku = [0, 1, 2, 3,\n",
    "          2, 3, -1, 1,\n",
    "          1, 2, 3, 0,\n",
    "          -1, 0, 1, 2]"
   ]
  },
  {
   "cell_type": "code",
   "execution_count": null,
   "id": "f741d945",
   "metadata": {},
   "outputs": [],
   "source": [
    "#Finds how many empty cells are in given sudoku\n",
    "def FindEmpty(sudoku):\n",
    "    emptynum = 0\n",
    "    for cell in sudoku:\n",
    "        if cell == -1:\n",
    "            emptynum += 1\n",
    "    return emptynum"
   ]
  },
  {
   "cell_type": "code",
   "execution_count": null,
   "id": "f73f56d0",
   "metadata": {},
   "outputs": [],
   "source": [
    "#Assigns cells to empty and filled so that we can calculate the qubits needed later\n",
    "def AssignQubits(sudoku):\n",
    "    poslist = [[],[]] #First sublist stores the empty cells and second sublist stores the data cells\n",
    "    for i in range(len(sudoku)):\n",
    "        if sudoku[i] == -1:\n",
    "            poslist[0] += [i]\n",
    "        else:\n",
    "            poslist[1] += [i]\n",
    "    return poslist"
   ]
  },
  {
   "cell_type": "code",
   "execution_count": null,
   "id": "ff2171f1",
   "metadata": {},
   "outputs": [],
   "source": [
    "#Creates a list of clauses that need to be checked to find the solutions \n",
    "#of the sudoku based on the locations of the empty cells\n",
    "#Works for 4x4 the sudoku\n",
    "def CreateClauses(poslistempty):\n",
    "    clauselist = [] #Will store smaller lists of cell pairs\n",
    "    for ec in poslistempty:\n",
    "        \n",
    "        row = ec//4 #The row in which the empty cell is\n",
    "        col = ec%4 #The column in which empty cell is\n",
    "        \n",
    "        #For every cell in row of empty cell except empty cell create a checking clause\n",
    "        #Start of row index is (elements_in_row*rownumber) \n",
    "        #and end of rwo index is (start + elements_in_row) here elements_in_row = 4\n",
    "        for i in range(row*4,(row*4)+4):\n",
    "            if ec != i:\n",
    "                clauselist += [[ec,i]]\n",
    "        \n",
    "        #For every cell in column of empty cell except empty cell create a checking clause\n",
    "        #Start of column is column_number and end is column_number+13 because 13 elements are between\n",
    "        #start and end of column in 4x4 sudoku\n",
    "        for j in range(col, col+13, 4):\n",
    "            if ec != j:\n",
    "                clauselist += [[ec,j]]\n",
    "        \n",
    "        #We need to check that there are different elements inside each 4-element box of the sudoku\n",
    "        #By checking rows and columns we have done every check that we have to for each cell except one\n",
    "        #We need to check the diagonal element to the cell in the 4 element box\n",
    "        #The indexes of the diagonal elements of each cell have the following pattern\n",
    "        #e.g. The index of the diagonal cell of cell 0 is 0+5 = 5 and of cell 9 is 9+3 = 11\n",
    "        # # # # # # # # # # # # # # # # # # # # # # #\n",
    "        #        ||----||----||----||----||         #\n",
    "        #        || +5 |  +3 || +5 |  +3 ||         #\n",
    "        #   Box1 ||----| ----||----| ----|| Box2    #\n",
    "        #        || -3 |  -5 || -3 |  -5 ||         #\n",
    "        #        ||----||----||----||----||         #\n",
    "        #        || +5 |  +3 || +5 |  +3 ||         #\n",
    "        #   Box3 ||----| ----||----| ----|| Box4    #\n",
    "        #        || -3 |  -5 || -3 |  -5 ||         #\n",
    "        #        ||----||----||----||----||         #\n",
    "        # # # # # # # # # # # # # # # # # # # # # # #\n",
    "        if row == 0 or row == 2:\n",
    "            if col == 0 or col == 2:\n",
    "                clauselist += [[ec,ec+5]]\n",
    "            else:\n",
    "                clauselist += [[ec,ec+3]]\n",
    "        else:\n",
    "            if col == 0 or col == 2:\n",
    "                clauselist += [[ec-3,ec]]\n",
    "            else:\n",
    "                clauselist += [[ec-5,ec]]\n",
    "        \n",
    "        #We delete the duplicate clauses e.g. [x,y] and [y,x]\n",
    "        #because they are the same and\n",
    "        #we only need to check one of the two\n",
    "        clauselist = DeleteDuplicates(clauselist)\n",
    "    return clauselist"
   ]
  },
  {
   "cell_type": "code",
   "execution_count": null,
   "id": "2739d69d",
   "metadata": {},
   "outputs": [],
   "source": [
    "#Organizes the numbers in clauses in ascending order \n",
    "#e.g. [x,y], x>y ---> [y,x]\n",
    "#and then creates a new list with just unique clauses\n",
    "def DeleteDuplicates(clist):\n",
    "    for c in clist:\n",
    "        if c[0]>c[1]:\n",
    "            c[0], c[1] = c[1], c[0]\n",
    "    \n",
    "    newlist = []\n",
    "    for c in clist:\n",
    "        if c not in newlist:\n",
    "            newlist.append(c)\n",
    "    return newlist"
   ]
  },
  {
   "cell_type": "code",
   "execution_count": null,
   "id": "9c458d08",
   "metadata": {},
   "outputs": [],
   "source": [
    "#Calculate from the clauses which filled cells we will need\n",
    "#to use in our calculations to minimize the number of qubits\n",
    "def GetRequiredData(clist,poslistempty):\n",
    "    rdata = []\n",
    "    #Gets the indexes of the cells that\n",
    "    #are in the clauses and are not an empty cell\n",
    "    for c1 in clist:\n",
    "        for c2 in c1:\n",
    "            if c2 not in rdata and c2 not in poslistempty:\n",
    "                rdata.append(c2)\n",
    "    return rdata"
   ]
  },
  {
   "cell_type": "code",
   "execution_count": null,
   "id": "71157719",
   "metadata": {},
   "outputs": [],
   "source": [
    "#Initialize variable qubits (empty cells) in |s> state with hadamard gates\n",
    "#and data qubits (filled cells) to |0> or |1> depending on cell value\n",
    "def InitializeQubits(sudoku,datareq,qc,var_qubits,dqubits):\n",
    "    p = 0 #Cell index\n",
    "    vqp = 0 #var_qubit index\n",
    "    dqp = 0 #dqubits index\n",
    "    for c in sudoku:\n",
    "        if c == -1:\n",
    "            qc.h(var_qubits[vqp])\n",
    "            qc.h(var_qubits[vqp+1])\n",
    "            vqp += 2\n",
    "        else:\n",
    "            # # # # # # # # # # # # # # # #\n",
    "            # Cell values # Binary values #\n",
    "            # # # # # # # # # # # # # # # #\n",
    "            #      0      #      00       #\n",
    "            #      1      #      01       #\n",
    "            #      2      #      10       #\n",
    "            #      3      #      11       #\n",
    "            # # # # # # # # # # # # # # # #\n",
    "            \n",
    "            # Initialize each qubit to either |0> or |1>            \n",
    "            if p in datareq:\n",
    "                if c%2 == 1:\n",
    "                    qc.x(dqubits[dqp]) #If odd set LSQ to |1>\n",
    "                if c//2 == 1:\n",
    "                    qc.x(dqubits[dqp+1]) #If c>=2 set MSQ to |1>\n",
    "                dqp += 2\n",
    "        p += 1"
   ]
  },
  {
   "cell_type": "code",
   "execution_count": null,
   "id": "65fd263a",
   "metadata": {},
   "outputs": [],
   "source": [
    "#We match the cell pointers to the qubit pointers so that \n",
    "#we know which register stores each cell's state\n",
    "#and update the clauselist with the new pointers\n",
    "def MatchQubitsToCells(poslist, datareq, clauselist):\n",
    "    matchlist = []\n",
    "    qp = 0 #qubit pointer\n",
    "    #First we match the empty cell qubits then the data\n",
    "    for p in poslist[0]:\n",
    "        matchlist.append([qp, p])\n",
    "        qp += 1\n",
    "    for p in poslist[1]:\n",
    "        if p in datareq:\n",
    "            matchlist.append([qp, p])\n",
    "            qp += 1\n",
    "    i=0\n",
    "    for c1 in clauselist:\n",
    "        j=0\n",
    "        for c2 in c1:\n",
    "            for m in matchlist:\n",
    "                if m[1] == c2:\n",
    "                    clauselist[i][j] = m[0]\n",
    "            j+=1\n",
    "        i+=1\n",
    "    \n",
    "    return clauselist"
   ]
  },
  {
   "cell_type": "code",
   "execution_count": null,
   "id": "2e0259c0",
   "metadata": {},
   "outputs": [],
   "source": [
    "def CheckClauses(qc, clause_qubits, clist):\n",
    "    cp = 0 #Clause qubits pointer\n",
    "    for c in clist:\n",
    "        r1p = 2 * c[0] #Register pointer, points to the respective cell qubits.\n",
    "        r2p = 2 * c[1] #Multply by 2 because each cell is represented by 2 qubits\n",
    "        \n",
    "        #XOR\n",
    "        #Flip first clause qubit if cell least significant qubits are different (XOR)\n",
    "        qc.cx(r1p, clause_qubits[cp])\n",
    "        qc.cx(r2p, clause_qubits[cp])\n",
    "        #Flip second clause qubit if cell most significant qubits are different \n",
    "        qc.cx(r1p+1, clause_qubits[cp+1])\n",
    "        qc.cx(r2p+1, clause_qubits[cp+1])\n",
    "        \n",
    "        #OR\n",
    "        #Flip third clause qubit if at least one of the other 2 clause qubits are |1>\n",
    "        #The third clause qubit holds the result of the comparison of the two cells\n",
    "        qc.cx(clause_qubits[cp],clause_qubits[cp+2])\n",
    "        qc.cx(clause_qubits[cp+1],clause_qubits[cp+2])\n",
    "        qc.ccx(clause_qubits[cp],clause_qubits[cp+1],clause_qubits[cp+2])\n",
    "        qc.barrier()\n",
    "        cp += 3 #Point to next clause set of qubits"
   ]
  },
  {
   "cell_type": "code",
   "execution_count": null,
   "id": "6b340882",
   "metadata": {},
   "outputs": [],
   "source": [
    "def Uncompute(qc, clause_qubits, clist):\n",
    "    cp = 0\n",
    "    for c in clist:\n",
    "        r1p = 2 * c[0]\n",
    "        r2p = 2 * c[1]\n",
    "        #Apply the oracle gates the oposite way so that we bring the clause qubits back to |0> state\n",
    "        qc.ccx(clause_qubits[cp],clause_qubits[cp+1],clause_qubits[cp+2])\n",
    "        qc.cx(clause_qubits[cp+1],clause_qubits[cp+2])\n",
    "        qc.cx(clause_qubits[cp],clause_qubits[cp+2])\n",
    "        qc.cx(r2p+1, clause_qubits[cp+1])\n",
    "        qc.cx(r1p+1, clause_qubits[cp+1])\n",
    "        qc.cx(r2p, clause_qubits[cp])\n",
    "        qc.cx(r1p, clause_qubits[cp])\n",
    "        qc.barrier()\n",
    "        cp += 3"
   ]
  },
  {
   "cell_type": "code",
   "execution_count": null,
   "id": "c97f4260",
   "metadata": {},
   "outputs": [],
   "source": [
    "#'Marks' with -1 the states that are the solution to the sudoku\n",
    "def Oracle(qc,clause_qubits,newclist, output_qubit):\n",
    "    #CheckClauses mct and Uncompute form the sudoku oracle\n",
    "    CheckClauses(qc,clause_qubits,newclist)\n",
    "    \n",
    "    #If every clause qubit that stores the result of each check is in state |1>,\n",
    "    #flip the output qubit. This will generate the -1 that we need to mark the solutions\n",
    "    \n",
    "    qc.mct([clause_qubits[i] for i in range(2,clause_qubits.size,3)], output_qubit)\n",
    "    \n",
    "    #MultiControlledToffoli(qc, MCTancilla, clause_qubits, len(newclist), output_qubit)\n",
    "    qc.barrier()\n",
    "    \n",
    "    #Undos CheckClauses so that clause qubits are returned to initial state\n",
    "    Uncompute(qc,clause_qubits,newclist)"
   ]
  },
  {
   "cell_type": "code",
   "execution_count": null,
   "id": "5eb4f550",
   "metadata": {},
   "outputs": [],
   "source": [
    "def Diffuser(qc,var_qubits):\n",
    "    nqubits = var_qubits.size\n",
    "    for qubit in range(nqubits):\n",
    "        qc.h(qubit)\n",
    "    # Apply transformation |00..0> -> |11..1> (X-gates)\n",
    "    for qubit in range(nqubits):\n",
    "        qc.x(qubit)\n",
    "    # Multi-controlled-Z gate\n",
    "    qc.h(nqubits-1)\n",
    "    qc.mct(list(range(nqubits-1)), nqubits-1)  # multi-controlled-toffoli)\n",
    "    qc.h(nqubits-1)\n",
    "\n",
    "    for qubit in range(nqubits-1):\n",
    "        qc.barrier(qubit)\n",
    "\n",
    "    # Apply transformation |11..1> -> |00..0>\n",
    "    for qubit in range(nqubits):\n",
    "        qc.x(qubit)\n",
    "    # Apply transformation |00..0> -> |s>\n",
    "    for qubit in range(nqubits):\n",
    "        qc.h(qubit)"
   ]
  },
  {
   "cell_type": "code",
   "execution_count": null,
   "id": "40dbf24c",
   "metadata": {},
   "outputs": [],
   "source": [
    "qpc = 2 #Qubits per cell\n",
    "qpclause = 3 #Qubits per clause\n",
    "nEmpty = FindEmpty(sudoku) #Number of empty cells\n",
    "poslist = AssignQubits(sudoku) #Separates cells to empty and data in a list\n",
    "clauselist = CreateClauses(poslist[0]) #Creates list of clauses needed to find empty cell\n",
    "print(clauselist)\n",
    "nVarqubits = qpc * nEmpty #Number of qubits needed for empty cells. 2 qubits for each cell (Values from 00 to 11)\n",
    "datareq = GetRequiredData(clauselist,poslist[0]) #The data cells that will be used to compute the empty\n",
    "nDataqubits = qpc * len(datareq) #Number of qubits needed for data cells (Values from 00 to 11)\n",
    "nClausequbits = qpclause * len(clauselist) #Number of qubits needed to compute clauses. 3 clause qubits for each clause\n",
    "nClassicbits = nVarqubits #Number of classic bits to get the final result of the empty cell qubits\n",
    "newclist = MatchQubitsToCells(poslist, datareq, clauselist) #New clause list with qubit pointers\n",
    "print(newclist)"
   ]
  },
  {
   "cell_type": "code",
   "execution_count": null,
   "id": "16a64ffe",
   "metadata": {},
   "outputs": [],
   "source": [
    "#Create the needed registers and quantum circuit\n",
    "var_qubits = QuantumRegister(nVarqubits, name='v')\n",
    "data_qubits = QuantumRegister(nDataqubits, name='d')\n",
    "clause_qubits = QuantumRegister(nClausequbits, name='c')\n",
    "output_qubit = QuantumRegister(1, name='out')\n",
    "cbits = ClassicalRegister(nVarqubits, name='cbits')\n",
    "qc = QuantumCircuit(var_qubits, data_qubits, clause_qubits, output_qubit, cbits)"
   ]
  },
  {
   "cell_type": "code",
   "execution_count": null,
   "id": "589ae2ef",
   "metadata": {
    "tags": []
   },
   "outputs": [],
   "source": [
    "#Initialize cell qubits. Clause qubits are initialized in |0> state, which is the default\n",
    "InitializeQubits(sudoku, datareq, qc, var_qubits, data_qubits)\n",
    "\n",
    "#Initialize output qubit, which states if a combination is solution, in state (|0> - |1>)/2^(1/2)\n",
    "qc.h(output_qubit)\n",
    "qc.z(output_qubit)\n",
    "\n",
    "iterations = round((pi/4)*((2**nqubits)**0.5)-0.5) #Iterations of the grover algorithm\n",
    "#Grover's Algorithm\n",
    "for i in range(iterations):\n",
    "    #Oracle(qc,clause_qubits,newclist,MCTancilla,output_qubit)\n",
    "    Oracle(qc,clause_qubits,newclist,output_qubit)\n",
    "    Diffuser(qc,var_qubits)\n",
    "    qc.barrier()\n",
    "\n",
    "qc.measure(var_qubits,cbits)\n",
    "qc.draw(fold=-1)"
   ]
  },
  {
   "cell_type": "code",
   "execution_count": null,
   "id": "cf83db4c",
   "metadata": {},
   "outputs": [],
   "source": [
    "simulator = Aer.get_backend('aer_simulator_matrix_product_state')\n",
    "#simulator = Aer.get_backend('aer_simulator_extended_stabilizer')\n",
    "#simulator = Aer.get_backend('aer_simulator_stabilizer')\n",
    "t_qc = transpile(qc, simulator)\n",
    "qobj = assemble(t_qc, shots=1000)\n",
    "result = simulator.run(qobj).result()\n",
    "\n",
    "plot_histogram(result.get_counts())"
   ]
  },
  {
   "cell_type": "code",
   "execution_count": null,
   "id": "7bde6400",
   "metadata": {},
   "outputs": [],
   "source": []
  }
 ],
 "metadata": {
  "kernelspec": {
   "display_name": "Qiskit v0.30.1 (ipykernel)",
   "language": "python",
   "name": "python3"
  },
  "language_info": {
   "codemirror_mode": {
    "name": "ipython",
    "version": 3
   },
   "file_extension": ".py",
   "mimetype": "text/x-python",
   "name": "python",
   "nbconvert_exporter": "python",
   "pygments_lexer": "ipython3",
   "version": "3.8.10"
  },
  "widgets": {
   "application/vnd.jupyter.widget-state+json": {
    "state": {
     "4f3373c327104fb7abb05b9d238e630c": {
      "model_module": "@jupyter-widgets/base",
      "model_module_version": "1.2.0",
      "model_name": "LayoutModel",
      "state": {
       "margin": "0px 0px 10px 0px"
      }
     },
     "92439ce45af04f338c49ea84b113f26c": {
      "model_module": "@jupyter-widgets/controls",
      "model_module_version": "1.5.0",
      "model_name": "HTMLModel",
      "state": {
       "layout": "IPY_MODEL_4f3373c327104fb7abb05b9d238e630c",
       "style": "IPY_MODEL_f68409b83f5f4e14a508a571b1378067",
       "value": "<p style='font-family: IBM Plex Sans, Arial, Helvetica, sans-serif; font-size: 20px; font-weight: medium;'>Circuit Properties</p>"
      }
     },
     "f68409b83f5f4e14a508a571b1378067": {
      "model_module": "@jupyter-widgets/controls",
      "model_module_version": "1.5.0",
      "model_name": "DescriptionStyleModel",
      "state": {
       "description_width": ""
      }
     }
    },
    "version_major": 2,
    "version_minor": 0
   }
  }
 },
 "nbformat": 4,
 "nbformat_minor": 5
}
